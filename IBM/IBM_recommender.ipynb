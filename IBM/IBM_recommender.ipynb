{
  "nbformat": 4,
  "nbformat_minor": 0,
  "metadata": {
    "colab": {
      "provenance": []
    },
    "kernelspec": {
      "name": "python3",
      "display_name": "Python 3"
    },
    "language_info": {
      "name": "python"
    }
  },
  "cells": [
    {
      "cell_type": "code",
      "execution_count": 1,
      "metadata": {
        "colab": {
          "base_uri": "https://localhost:8080/"
        },
        "id": "RA_aWrNl9BuN",
        "outputId": "d3038b56-0003-4bab-fcc0-fb1c53149272"
      },
      "outputs": [
        {
          "output_type": "stream",
          "name": "stdout",
          "text": [
            "Looking in indexes: https://pypi.org/simple, https://us-python.pkg.dev/colab-wheels/public/simple/\n",
            "Collecting scikit-surprise\n",
            "  Downloading scikit-surprise-1.1.3.tar.gz (771 kB)\n",
            "\u001b[2K     \u001b[90m━━━━━━━━━━━━━━━━━━━━━━━━━━━━━━━━━━━━━━\u001b[0m \u001b[32m772.0/772.0 KB\u001b[0m \u001b[31m10.0 MB/s\u001b[0m eta \u001b[36m0:00:00\u001b[0m\n",
            "\u001b[?25h  Preparing metadata (setup.py) ... \u001b[?25l\u001b[?25hdone\n",
            "Requirement already satisfied: joblib>=1.0.0 in /usr/local/lib/python3.9/dist-packages (from scikit-surprise) (1.1.1)\n",
            "Requirement already satisfied: numpy>=1.17.3 in /usr/local/lib/python3.9/dist-packages (from scikit-surprise) (1.22.4)\n",
            "Requirement already satisfied: scipy>=1.3.2 in /usr/local/lib/python3.9/dist-packages (from scikit-surprise) (1.10.1)\n",
            "Building wheels for collected packages: scikit-surprise\n",
            "  Building wheel for scikit-surprise (setup.py) ... \u001b[?25l\u001b[?25hdone\n",
            "  Created wheel for scikit-surprise: filename=scikit_surprise-1.1.3-cp39-cp39-linux_x86_64.whl size=3193668 sha256=30abe869c1ff4e3645339297c05ab2e579a23fa99004a6129fd2a978f3246e26\n",
            "  Stored in directory: /root/.cache/pip/wheels/c6/3a/46/9b17b3512bdf283c6cb84f59929cdd5199d4e754d596d22784\n",
            "Successfully built scikit-surprise\n",
            "Installing collected packages: scikit-surprise\n",
            "Successfully installed scikit-surprise-1.1.3\n"
          ]
        }
      ],
      "source": [
        "!pip install scikit-surprise"
      ]
    },
    {
      "cell_type": "code",
      "source": [
        "from surprise import Dataset \n",
        "import pandas as pd\n",
        "from google.colab import drive\n",
        "from surprise import Reader\n",
        "from surprise import SVD\n",
        "from sklearn.preprocessing import LabelEncoder\n",
        "from sklearn.metrics.pairwise import cosine_similarity\n",
        "\n",
        "drive.mount('/gdrive') \n",
        "data = pd.read_csv('/gdrive/My Drive/DecisionTree/Capstone/Clean_Client_Spend_Data_v2.csv')\n",
        "df = data[['CLIENT_ID', 'SUPPLIER_NORMALIZED_NAME', 'IBM_COMMODITY']]"
      ],
      "metadata": {
        "colab": {
          "base_uri": "https://localhost:8080/"
        },
        "id": "WMD0y72l9R-y",
        "outputId": "0988e388-f41f-4582-8b08-fc0e0f3d838e"
      },
      "execution_count": 2,
      "outputs": [
        {
          "output_type": "stream",
          "name": "stdout",
          "text": [
            "Mounted at /gdrive\n"
          ]
        },
        {
          "output_type": "stream",
          "name": "stderr",
          "text": [
            "<ipython-input-2-cba90938e58a>:10: DtypeWarning: Columns (9) have mixed types. Specify dtype option on import or set low_memory=False.\n",
            "  data = pd.read_csv('/gdrive/My Drive/DecisionTree/Capstone/Clean_Client_Spend_Data_v2.csv')\n"
          ]
        }
      ]
    },
    {
      "cell_type": "code",
      "source": [
        "import os\n",
        "from surprise import BaselineOnly\n",
        "from surprise import accuracy \n",
        "from surprise.model_selection import train_test_split\n",
        "from surprise import Dataset\n",
        "from surprise import Reader"
      ],
      "metadata": {
        "id": "Ldmfw7i7uR3g"
      },
      "execution_count": 3,
      "outputs": []
    },
    {
      "cell_type": "code",
      "source": [
        "df"
      ],
      "metadata": {
        "colab": {
          "base_uri": "https://localhost:8080/",
          "height": 424
        },
        "id": "rjQXNcE7mLSh",
        "outputId": "be7cc465-07e2-4b5c-d3f4-033de16ba215"
      },
      "execution_count": 5,
      "outputs": [
        {
          "output_type": "execute_result",
          "data": {
            "text/plain": [
              "       CLIENT_ID SUPPLIER_NORMALIZED_NAME                      IBM_COMMODITY\n",
              "0        CLIENT3                   LOGEVO                      Uncategorized\n",
              "1        CLIENT3                CAPGEMINI            IT Maintenance Services\n",
              "2        CLIENT2                MICROSOFT                  Software Licenses\n",
              "3        CLIENT3                 MEDIACOM  Advertising & Creative Agency Fee\n",
              "4        CLIENT2   CUTRALE AUBURNDALE STO           Other Financial Services\n",
              "...          ...                      ...                                ...\n",
              "715892   CLIENT4                COGNIZANT               Software Maintenance\n",
              "715893   CLIENT1                  NEWEDGE           Other Financial Services\n",
              "715894   CLIENT2         BAIN AND COMPANY              Management Consulting\n",
              "715895   CLIENT2      TAMPA JUICE SERVICE                      Food Services\n",
              "715896   CLIENT3                    KLEBL                      Uncategorized\n",
              "\n",
              "[715897 rows x 3 columns]"
            ],
            "text/html": [
              "\n",
              "  <div id=\"df-a90d8b64-53ed-49ba-b4f2-623bbda4b710\">\n",
              "    <div class=\"colab-df-container\">\n",
              "      <div>\n",
              "<style scoped>\n",
              "    .dataframe tbody tr th:only-of-type {\n",
              "        vertical-align: middle;\n",
              "    }\n",
              "\n",
              "    .dataframe tbody tr th {\n",
              "        vertical-align: top;\n",
              "    }\n",
              "\n",
              "    .dataframe thead th {\n",
              "        text-align: right;\n",
              "    }\n",
              "</style>\n",
              "<table border=\"1\" class=\"dataframe\">\n",
              "  <thead>\n",
              "    <tr style=\"text-align: right;\">\n",
              "      <th></th>\n",
              "      <th>CLIENT_ID</th>\n",
              "      <th>SUPPLIER_NORMALIZED_NAME</th>\n",
              "      <th>IBM_COMMODITY</th>\n",
              "    </tr>\n",
              "  </thead>\n",
              "  <tbody>\n",
              "    <tr>\n",
              "      <th>0</th>\n",
              "      <td>CLIENT3</td>\n",
              "      <td>LOGEVO</td>\n",
              "      <td>Uncategorized</td>\n",
              "    </tr>\n",
              "    <tr>\n",
              "      <th>1</th>\n",
              "      <td>CLIENT3</td>\n",
              "      <td>CAPGEMINI</td>\n",
              "      <td>IT Maintenance Services</td>\n",
              "    </tr>\n",
              "    <tr>\n",
              "      <th>2</th>\n",
              "      <td>CLIENT2</td>\n",
              "      <td>MICROSOFT</td>\n",
              "      <td>Software Licenses</td>\n",
              "    </tr>\n",
              "    <tr>\n",
              "      <th>3</th>\n",
              "      <td>CLIENT3</td>\n",
              "      <td>MEDIACOM</td>\n",
              "      <td>Advertising &amp; Creative Agency Fee</td>\n",
              "    </tr>\n",
              "    <tr>\n",
              "      <th>4</th>\n",
              "      <td>CLIENT2</td>\n",
              "      <td>CUTRALE AUBURNDALE STO</td>\n",
              "      <td>Other Financial Services</td>\n",
              "    </tr>\n",
              "    <tr>\n",
              "      <th>...</th>\n",
              "      <td>...</td>\n",
              "      <td>...</td>\n",
              "      <td>...</td>\n",
              "    </tr>\n",
              "    <tr>\n",
              "      <th>715892</th>\n",
              "      <td>CLIENT4</td>\n",
              "      <td>COGNIZANT</td>\n",
              "      <td>Software Maintenance</td>\n",
              "    </tr>\n",
              "    <tr>\n",
              "      <th>715893</th>\n",
              "      <td>CLIENT1</td>\n",
              "      <td>NEWEDGE</td>\n",
              "      <td>Other Financial Services</td>\n",
              "    </tr>\n",
              "    <tr>\n",
              "      <th>715894</th>\n",
              "      <td>CLIENT2</td>\n",
              "      <td>BAIN AND COMPANY</td>\n",
              "      <td>Management Consulting</td>\n",
              "    </tr>\n",
              "    <tr>\n",
              "      <th>715895</th>\n",
              "      <td>CLIENT2</td>\n",
              "      <td>TAMPA JUICE SERVICE</td>\n",
              "      <td>Food Services</td>\n",
              "    </tr>\n",
              "    <tr>\n",
              "      <th>715896</th>\n",
              "      <td>CLIENT3</td>\n",
              "      <td>KLEBL</td>\n",
              "      <td>Uncategorized</td>\n",
              "    </tr>\n",
              "  </tbody>\n",
              "</table>\n",
              "<p>715897 rows × 3 columns</p>\n",
              "</div>\n",
              "      <button class=\"colab-df-convert\" onclick=\"convertToInteractive('df-a90d8b64-53ed-49ba-b4f2-623bbda4b710')\"\n",
              "              title=\"Convert this dataframe to an interactive table.\"\n",
              "              style=\"display:none;\">\n",
              "        \n",
              "  <svg xmlns=\"http://www.w3.org/2000/svg\" height=\"24px\"viewBox=\"0 0 24 24\"\n",
              "       width=\"24px\">\n",
              "    <path d=\"M0 0h24v24H0V0z\" fill=\"none\"/>\n",
              "    <path d=\"M18.56 5.44l.94 2.06.94-2.06 2.06-.94-2.06-.94-.94-2.06-.94 2.06-2.06.94zm-11 1L8.5 8.5l.94-2.06 2.06-.94-2.06-.94L8.5 2.5l-.94 2.06-2.06.94zm10 10l.94 2.06.94-2.06 2.06-.94-2.06-.94-.94-2.06-.94 2.06-2.06.94z\"/><path d=\"M17.41 7.96l-1.37-1.37c-.4-.4-.92-.59-1.43-.59-.52 0-1.04.2-1.43.59L10.3 9.45l-7.72 7.72c-.78.78-.78 2.05 0 2.83L4 21.41c.39.39.9.59 1.41.59.51 0 1.02-.2 1.41-.59l7.78-7.78 2.81-2.81c.8-.78.8-2.07 0-2.86zM5.41 20L4 18.59l7.72-7.72 1.47 1.35L5.41 20z\"/>\n",
              "  </svg>\n",
              "      </button>\n",
              "      \n",
              "  <style>\n",
              "    .colab-df-container {\n",
              "      display:flex;\n",
              "      flex-wrap:wrap;\n",
              "      gap: 12px;\n",
              "    }\n",
              "\n",
              "    .colab-df-convert {\n",
              "      background-color: #E8F0FE;\n",
              "      border: none;\n",
              "      border-radius: 50%;\n",
              "      cursor: pointer;\n",
              "      display: none;\n",
              "      fill: #1967D2;\n",
              "      height: 32px;\n",
              "      padding: 0 0 0 0;\n",
              "      width: 32px;\n",
              "    }\n",
              "\n",
              "    .colab-df-convert:hover {\n",
              "      background-color: #E2EBFA;\n",
              "      box-shadow: 0px 1px 2px rgba(60, 64, 67, 0.3), 0px 1px 3px 1px rgba(60, 64, 67, 0.15);\n",
              "      fill: #174EA6;\n",
              "    }\n",
              "\n",
              "    [theme=dark] .colab-df-convert {\n",
              "      background-color: #3B4455;\n",
              "      fill: #D2E3FC;\n",
              "    }\n",
              "\n",
              "    [theme=dark] .colab-df-convert:hover {\n",
              "      background-color: #434B5C;\n",
              "      box-shadow: 0px 1px 3px 1px rgba(0, 0, 0, 0.15);\n",
              "      filter: drop-shadow(0px 1px 2px rgba(0, 0, 0, 0.3));\n",
              "      fill: #FFFFFF;\n",
              "    }\n",
              "  </style>\n",
              "\n",
              "      <script>\n",
              "        const buttonEl =\n",
              "          document.querySelector('#df-a90d8b64-53ed-49ba-b4f2-623bbda4b710 button.colab-df-convert');\n",
              "        buttonEl.style.display =\n",
              "          google.colab.kernel.accessAllowed ? 'block' : 'none';\n",
              "\n",
              "        async function convertToInteractive(key) {\n",
              "          const element = document.querySelector('#df-a90d8b64-53ed-49ba-b4f2-623bbda4b710');\n",
              "          const dataTable =\n",
              "            await google.colab.kernel.invokeFunction('convertToInteractive',\n",
              "                                                     [key], {});\n",
              "          if (!dataTable) return;\n",
              "\n",
              "          const docLinkHtml = 'Like what you see? Visit the ' +\n",
              "            '<a target=\"_blank\" href=https://colab.research.google.com/notebooks/data_table.ipynb>data table notebook</a>'\n",
              "            + ' to learn more about interactive tables.';\n",
              "          element.innerHTML = '';\n",
              "          dataTable['output_type'] = 'display_data';\n",
              "          await google.colab.output.renderOutput(dataTable, element);\n",
              "          const docLink = document.createElement('div');\n",
              "          docLink.innerHTML = docLinkHtml;\n",
              "          element.appendChild(docLink);\n",
              "        }\n",
              "      </script>\n",
              "    </div>\n",
              "  </div>\n",
              "  "
            ]
          },
          "metadata": {},
          "execution_count": 5
        }
      ]
    },
    {
      "cell_type": "code",
      "source": [
        "Transaction_count = df.groupby(['CLIENT_ID', 'IBM_COMMODITY', 'SUPPLIER_NORMALIZED_NAME']).size().reset_index(name='rating')\n",
        "Transaction_count"
      ],
      "metadata": {
        "colab": {
          "base_uri": "https://localhost:8080/",
          "height": 424
        },
        "id": "XpQLUrV2fkri",
        "outputId": "932a76a7-20b7-4ee3-b892-c8f448917176"
      },
      "execution_count": 4,
      "outputs": [
        {
          "output_type": "execute_result",
          "data": {
            "text/plain": [
              "      CLIENT_ID                          IBM_COMMODITY  \\\n",
              "0       CLIENT1      Advertising & Creative Agency Fee   \n",
              "1       CLIENT1      Advertising & Creative Agency Fee   \n",
              "2       CLIENT1      Advertising & Creative Agency Fee   \n",
              "3       CLIENT1      Advertising & Creative Agency Fee   \n",
              "4       CLIENT1      Advertising & Creative Agency Fee   \n",
              "...         ...                                    ...   \n",
              "39228   CLIENT4                               Uniforms   \n",
              "39229   CLIENT4  Vehicle & Equipment Acquisition - OEM   \n",
              "39230   CLIENT4                            Warehousing   \n",
              "39231   CLIENT4                            Warehousing   \n",
              "39232   CLIENT4                            Warehousing   \n",
              "\n",
              "                 SUPPLIER_NORMALIZED_NAME  rating  \n",
              "0                           ABIGGERCIRCLE       3  \n",
              "1                       ADVERTISING HOUSE       1  \n",
              "2              AFP ADVANCED FOOD PRODUCTS       1  \n",
              "3           AFRICA DDB BRASIL PUBLICIDADE       3  \n",
              "4                                  AMAZON       2  \n",
              "...                                   ...     ...  \n",
              "39228                             ARAMARK     166  \n",
              "39229                                QDCL      12  \n",
              "39230               COORDINATED RESOURCES       1  \n",
              "39231  CROWN WORLDWIDE MOVING AND STORAGE       2  \n",
              "39232              REDWOOD MOVING STORAGE       1  \n",
              "\n",
              "[39233 rows x 4 columns]"
            ],
            "text/html": [
              "\n",
              "  <div id=\"df-ee8176ed-5099-46f6-b929-1741932a425f\">\n",
              "    <div class=\"colab-df-container\">\n",
              "      <div>\n",
              "<style scoped>\n",
              "    .dataframe tbody tr th:only-of-type {\n",
              "        vertical-align: middle;\n",
              "    }\n",
              "\n",
              "    .dataframe tbody tr th {\n",
              "        vertical-align: top;\n",
              "    }\n",
              "\n",
              "    .dataframe thead th {\n",
              "        text-align: right;\n",
              "    }\n",
              "</style>\n",
              "<table border=\"1\" class=\"dataframe\">\n",
              "  <thead>\n",
              "    <tr style=\"text-align: right;\">\n",
              "      <th></th>\n",
              "      <th>CLIENT_ID</th>\n",
              "      <th>IBM_COMMODITY</th>\n",
              "      <th>SUPPLIER_NORMALIZED_NAME</th>\n",
              "      <th>rating</th>\n",
              "    </tr>\n",
              "  </thead>\n",
              "  <tbody>\n",
              "    <tr>\n",
              "      <th>0</th>\n",
              "      <td>CLIENT1</td>\n",
              "      <td>Advertising &amp; Creative Agency Fee</td>\n",
              "      <td>ABIGGERCIRCLE</td>\n",
              "      <td>3</td>\n",
              "    </tr>\n",
              "    <tr>\n",
              "      <th>1</th>\n",
              "      <td>CLIENT1</td>\n",
              "      <td>Advertising &amp; Creative Agency Fee</td>\n",
              "      <td>ADVERTISING HOUSE</td>\n",
              "      <td>1</td>\n",
              "    </tr>\n",
              "    <tr>\n",
              "      <th>2</th>\n",
              "      <td>CLIENT1</td>\n",
              "      <td>Advertising &amp; Creative Agency Fee</td>\n",
              "      <td>AFP ADVANCED FOOD PRODUCTS</td>\n",
              "      <td>1</td>\n",
              "    </tr>\n",
              "    <tr>\n",
              "      <th>3</th>\n",
              "      <td>CLIENT1</td>\n",
              "      <td>Advertising &amp; Creative Agency Fee</td>\n",
              "      <td>AFRICA DDB BRASIL PUBLICIDADE</td>\n",
              "      <td>3</td>\n",
              "    </tr>\n",
              "    <tr>\n",
              "      <th>4</th>\n",
              "      <td>CLIENT1</td>\n",
              "      <td>Advertising &amp; Creative Agency Fee</td>\n",
              "      <td>AMAZON</td>\n",
              "      <td>2</td>\n",
              "    </tr>\n",
              "    <tr>\n",
              "      <th>...</th>\n",
              "      <td>...</td>\n",
              "      <td>...</td>\n",
              "      <td>...</td>\n",
              "      <td>...</td>\n",
              "    </tr>\n",
              "    <tr>\n",
              "      <th>39228</th>\n",
              "      <td>CLIENT4</td>\n",
              "      <td>Uniforms</td>\n",
              "      <td>ARAMARK</td>\n",
              "      <td>166</td>\n",
              "    </tr>\n",
              "    <tr>\n",
              "      <th>39229</th>\n",
              "      <td>CLIENT4</td>\n",
              "      <td>Vehicle &amp; Equipment Acquisition - OEM</td>\n",
              "      <td>QDCL</td>\n",
              "      <td>12</td>\n",
              "    </tr>\n",
              "    <tr>\n",
              "      <th>39230</th>\n",
              "      <td>CLIENT4</td>\n",
              "      <td>Warehousing</td>\n",
              "      <td>COORDINATED RESOURCES</td>\n",
              "      <td>1</td>\n",
              "    </tr>\n",
              "    <tr>\n",
              "      <th>39231</th>\n",
              "      <td>CLIENT4</td>\n",
              "      <td>Warehousing</td>\n",
              "      <td>CROWN WORLDWIDE MOVING AND STORAGE</td>\n",
              "      <td>2</td>\n",
              "    </tr>\n",
              "    <tr>\n",
              "      <th>39232</th>\n",
              "      <td>CLIENT4</td>\n",
              "      <td>Warehousing</td>\n",
              "      <td>REDWOOD MOVING STORAGE</td>\n",
              "      <td>1</td>\n",
              "    </tr>\n",
              "  </tbody>\n",
              "</table>\n",
              "<p>39233 rows × 4 columns</p>\n",
              "</div>\n",
              "      <button class=\"colab-df-convert\" onclick=\"convertToInteractive('df-ee8176ed-5099-46f6-b929-1741932a425f')\"\n",
              "              title=\"Convert this dataframe to an interactive table.\"\n",
              "              style=\"display:none;\">\n",
              "        \n",
              "  <svg xmlns=\"http://www.w3.org/2000/svg\" height=\"24px\"viewBox=\"0 0 24 24\"\n",
              "       width=\"24px\">\n",
              "    <path d=\"M0 0h24v24H0V0z\" fill=\"none\"/>\n",
              "    <path d=\"M18.56 5.44l.94 2.06.94-2.06 2.06-.94-2.06-.94-.94-2.06-.94 2.06-2.06.94zm-11 1L8.5 8.5l.94-2.06 2.06-.94-2.06-.94L8.5 2.5l-.94 2.06-2.06.94zm10 10l.94 2.06.94-2.06 2.06-.94-2.06-.94-.94-2.06-.94 2.06-2.06.94z\"/><path d=\"M17.41 7.96l-1.37-1.37c-.4-.4-.92-.59-1.43-.59-.52 0-1.04.2-1.43.59L10.3 9.45l-7.72 7.72c-.78.78-.78 2.05 0 2.83L4 21.41c.39.39.9.59 1.41.59.51 0 1.02-.2 1.41-.59l7.78-7.78 2.81-2.81c.8-.78.8-2.07 0-2.86zM5.41 20L4 18.59l7.72-7.72 1.47 1.35L5.41 20z\"/>\n",
              "  </svg>\n",
              "      </button>\n",
              "      \n",
              "  <style>\n",
              "    .colab-df-container {\n",
              "      display:flex;\n",
              "      flex-wrap:wrap;\n",
              "      gap: 12px;\n",
              "    }\n",
              "\n",
              "    .colab-df-convert {\n",
              "      background-color: #E8F0FE;\n",
              "      border: none;\n",
              "      border-radius: 50%;\n",
              "      cursor: pointer;\n",
              "      display: none;\n",
              "      fill: #1967D2;\n",
              "      height: 32px;\n",
              "      padding: 0 0 0 0;\n",
              "      width: 32px;\n",
              "    }\n",
              "\n",
              "    .colab-df-convert:hover {\n",
              "      background-color: #E2EBFA;\n",
              "      box-shadow: 0px 1px 2px rgba(60, 64, 67, 0.3), 0px 1px 3px 1px rgba(60, 64, 67, 0.15);\n",
              "      fill: #174EA6;\n",
              "    }\n",
              "\n",
              "    [theme=dark] .colab-df-convert {\n",
              "      background-color: #3B4455;\n",
              "      fill: #D2E3FC;\n",
              "    }\n",
              "\n",
              "    [theme=dark] .colab-df-convert:hover {\n",
              "      background-color: #434B5C;\n",
              "      box-shadow: 0px 1px 3px 1px rgba(0, 0, 0, 0.15);\n",
              "      filter: drop-shadow(0px 1px 2px rgba(0, 0, 0, 0.3));\n",
              "      fill: #FFFFFF;\n",
              "    }\n",
              "  </style>\n",
              "\n",
              "      <script>\n",
              "        const buttonEl =\n",
              "          document.querySelector('#df-ee8176ed-5099-46f6-b929-1741932a425f button.colab-df-convert');\n",
              "        buttonEl.style.display =\n",
              "          google.colab.kernel.accessAllowed ? 'block' : 'none';\n",
              "\n",
              "        async function convertToInteractive(key) {\n",
              "          const element = document.querySelector('#df-ee8176ed-5099-46f6-b929-1741932a425f');\n",
              "          const dataTable =\n",
              "            await google.colab.kernel.invokeFunction('convertToInteractive',\n",
              "                                                     [key], {});\n",
              "          if (!dataTable) return;\n",
              "\n",
              "          const docLinkHtml = 'Like what you see? Visit the ' +\n",
              "            '<a target=\"_blank\" href=https://colab.research.google.com/notebooks/data_table.ipynb>data table notebook</a>'\n",
              "            + ' to learn more about interactive tables.';\n",
              "          element.innerHTML = '';\n",
              "          dataTable['output_type'] = 'display_data';\n",
              "          await google.colab.output.renderOutput(dataTable, element);\n",
              "          const docLink = document.createElement('div');\n",
              "          docLink.innerHTML = docLinkHtml;\n",
              "          element.appendChild(docLink);\n",
              "        }\n",
              "      </script>\n",
              "    </div>\n",
              "  </div>\n",
              "  "
            ]
          },
          "metadata": {},
          "execution_count": 4
        }
      ]
    },
    {
      "cell_type": "code",
      "source": [
        "# normalize the rating by dividing by the total number of transactions per client and commodity\n",
        "Transaction_count['total_transactions'] = Transaction_count.groupby(['CLIENT_ID', 'SUPPLIER_NORMALIZED_NAME'])['rating'].transform('sum')\n",
        "Transaction_count['rating'] = Transaction_count['rating'] / Transaction_count['total_transactions']\n",
        "print(Transaction_count)"
      ],
      "metadata": {
        "colab": {
          "base_uri": "https://localhost:8080/"
        },
        "id": "GwX27Q31mjxU",
        "outputId": "c57ac2bb-474d-4b87-daa2-f1c35ecb0efd"
      },
      "execution_count": 5,
      "outputs": [
        {
          "output_type": "stream",
          "name": "stdout",
          "text": [
            "      CLIENT_ID                          IBM_COMMODITY  \\\n",
            "0       CLIENT1      Advertising & Creative Agency Fee   \n",
            "1       CLIENT1      Advertising & Creative Agency Fee   \n",
            "2       CLIENT1      Advertising & Creative Agency Fee   \n",
            "3       CLIENT1      Advertising & Creative Agency Fee   \n",
            "4       CLIENT1      Advertising & Creative Agency Fee   \n",
            "...         ...                                    ...   \n",
            "39228   CLIENT4                               Uniforms   \n",
            "39229   CLIENT4  Vehicle & Equipment Acquisition - OEM   \n",
            "39230   CLIENT4                            Warehousing   \n",
            "39231   CLIENT4                            Warehousing   \n",
            "39232   CLIENT4                            Warehousing   \n",
            "\n",
            "                 SUPPLIER_NORMALIZED_NAME    rating  total_transactions  \n",
            "0                           ABIGGERCIRCLE  1.000000                   3  \n",
            "1                       ADVERTISING HOUSE  0.200000                   5  \n",
            "2              AFP ADVANCED FOOD PRODUCTS  1.000000                   1  \n",
            "3           AFRICA DDB BRASIL PUBLICIDADE  0.375000                   8  \n",
            "4                                  AMAZON  1.000000                   2  \n",
            "...                                   ...       ...                 ...  \n",
            "39228                             ARAMARK  0.790476                 210  \n",
            "39229                                QDCL  1.000000                  12  \n",
            "39230               COORDINATED RESOURCES  0.333333                   3  \n",
            "39231  CROWN WORLDWIDE MOVING AND STORAGE  0.125000                  16  \n",
            "39232              REDWOOD MOVING STORAGE  1.000000                   1  \n",
            "\n",
            "[39233 rows x 5 columns]\n"
          ]
        }
      ]
    },
    {
      "cell_type": "code",
      "source": [
        "Transaction_count['new_rating'] = round(Transaction_count['rating']*5)\n",
        "Transaction_count['new_rating']"
      ],
      "metadata": {
        "colab": {
          "base_uri": "https://localhost:8080/"
        },
        "id": "uTZK8wQ-mvHQ",
        "outputId": "df7a3f88-58e9-41c4-e378-27176fdc1827"
      },
      "execution_count": 6,
      "outputs": [
        {
          "output_type": "execute_result",
          "data": {
            "text/plain": [
              "0        5.0\n",
              "1        1.0\n",
              "2        5.0\n",
              "3        2.0\n",
              "4        5.0\n",
              "        ... \n",
              "39228    4.0\n",
              "39229    5.0\n",
              "39230    2.0\n",
              "39231    1.0\n",
              "39232    5.0\n",
              "Name: new_rating, Length: 39233, dtype: float64"
            ]
          },
          "metadata": {},
          "execution_count": 6
        }
      ]
    },
    {
      "cell_type": "code",
      "source": [
        "Transaction_count.drop(['rating','total_transactions'], axis=1)"
      ],
      "metadata": {
        "colab": {
          "base_uri": "https://localhost:8080/",
          "height": 424
        },
        "id": "7PXEkPkDsgKn",
        "outputId": "8e9f5422-6d6f-4f78-9e9e-9e7adf8f6826"
      },
      "execution_count": 7,
      "outputs": [
        {
          "output_type": "execute_result",
          "data": {
            "text/plain": [
              "      CLIENT_ID                          IBM_COMMODITY  \\\n",
              "0       CLIENT1      Advertising & Creative Agency Fee   \n",
              "1       CLIENT1      Advertising & Creative Agency Fee   \n",
              "2       CLIENT1      Advertising & Creative Agency Fee   \n",
              "3       CLIENT1      Advertising & Creative Agency Fee   \n",
              "4       CLIENT1      Advertising & Creative Agency Fee   \n",
              "...         ...                                    ...   \n",
              "39228   CLIENT4                               Uniforms   \n",
              "39229   CLIENT4  Vehicle & Equipment Acquisition - OEM   \n",
              "39230   CLIENT4                            Warehousing   \n",
              "39231   CLIENT4                            Warehousing   \n",
              "39232   CLIENT4                            Warehousing   \n",
              "\n",
              "                 SUPPLIER_NORMALIZED_NAME  new_rating  \n",
              "0                           ABIGGERCIRCLE         5.0  \n",
              "1                       ADVERTISING HOUSE         1.0  \n",
              "2              AFP ADVANCED FOOD PRODUCTS         5.0  \n",
              "3           AFRICA DDB BRASIL PUBLICIDADE         2.0  \n",
              "4                                  AMAZON         5.0  \n",
              "...                                   ...         ...  \n",
              "39228                             ARAMARK         4.0  \n",
              "39229                                QDCL         5.0  \n",
              "39230               COORDINATED RESOURCES         2.0  \n",
              "39231  CROWN WORLDWIDE MOVING AND STORAGE         1.0  \n",
              "39232              REDWOOD MOVING STORAGE         5.0  \n",
              "\n",
              "[39233 rows x 4 columns]"
            ],
            "text/html": [
              "\n",
              "  <div id=\"df-1d2b235f-edea-4886-9569-a4a727c3e122\">\n",
              "    <div class=\"colab-df-container\">\n",
              "      <div>\n",
              "<style scoped>\n",
              "    .dataframe tbody tr th:only-of-type {\n",
              "        vertical-align: middle;\n",
              "    }\n",
              "\n",
              "    .dataframe tbody tr th {\n",
              "        vertical-align: top;\n",
              "    }\n",
              "\n",
              "    .dataframe thead th {\n",
              "        text-align: right;\n",
              "    }\n",
              "</style>\n",
              "<table border=\"1\" class=\"dataframe\">\n",
              "  <thead>\n",
              "    <tr style=\"text-align: right;\">\n",
              "      <th></th>\n",
              "      <th>CLIENT_ID</th>\n",
              "      <th>IBM_COMMODITY</th>\n",
              "      <th>SUPPLIER_NORMALIZED_NAME</th>\n",
              "      <th>new_rating</th>\n",
              "    </tr>\n",
              "  </thead>\n",
              "  <tbody>\n",
              "    <tr>\n",
              "      <th>0</th>\n",
              "      <td>CLIENT1</td>\n",
              "      <td>Advertising &amp; Creative Agency Fee</td>\n",
              "      <td>ABIGGERCIRCLE</td>\n",
              "      <td>5.0</td>\n",
              "    </tr>\n",
              "    <tr>\n",
              "      <th>1</th>\n",
              "      <td>CLIENT1</td>\n",
              "      <td>Advertising &amp; Creative Agency Fee</td>\n",
              "      <td>ADVERTISING HOUSE</td>\n",
              "      <td>1.0</td>\n",
              "    </tr>\n",
              "    <tr>\n",
              "      <th>2</th>\n",
              "      <td>CLIENT1</td>\n",
              "      <td>Advertising &amp; Creative Agency Fee</td>\n",
              "      <td>AFP ADVANCED FOOD PRODUCTS</td>\n",
              "      <td>5.0</td>\n",
              "    </tr>\n",
              "    <tr>\n",
              "      <th>3</th>\n",
              "      <td>CLIENT1</td>\n",
              "      <td>Advertising &amp; Creative Agency Fee</td>\n",
              "      <td>AFRICA DDB BRASIL PUBLICIDADE</td>\n",
              "      <td>2.0</td>\n",
              "    </tr>\n",
              "    <tr>\n",
              "      <th>4</th>\n",
              "      <td>CLIENT1</td>\n",
              "      <td>Advertising &amp; Creative Agency Fee</td>\n",
              "      <td>AMAZON</td>\n",
              "      <td>5.0</td>\n",
              "    </tr>\n",
              "    <tr>\n",
              "      <th>...</th>\n",
              "      <td>...</td>\n",
              "      <td>...</td>\n",
              "      <td>...</td>\n",
              "      <td>...</td>\n",
              "    </tr>\n",
              "    <tr>\n",
              "      <th>39228</th>\n",
              "      <td>CLIENT4</td>\n",
              "      <td>Uniforms</td>\n",
              "      <td>ARAMARK</td>\n",
              "      <td>4.0</td>\n",
              "    </tr>\n",
              "    <tr>\n",
              "      <th>39229</th>\n",
              "      <td>CLIENT4</td>\n",
              "      <td>Vehicle &amp; Equipment Acquisition - OEM</td>\n",
              "      <td>QDCL</td>\n",
              "      <td>5.0</td>\n",
              "    </tr>\n",
              "    <tr>\n",
              "      <th>39230</th>\n",
              "      <td>CLIENT4</td>\n",
              "      <td>Warehousing</td>\n",
              "      <td>COORDINATED RESOURCES</td>\n",
              "      <td>2.0</td>\n",
              "    </tr>\n",
              "    <tr>\n",
              "      <th>39231</th>\n",
              "      <td>CLIENT4</td>\n",
              "      <td>Warehousing</td>\n",
              "      <td>CROWN WORLDWIDE MOVING AND STORAGE</td>\n",
              "      <td>1.0</td>\n",
              "    </tr>\n",
              "    <tr>\n",
              "      <th>39232</th>\n",
              "      <td>CLIENT4</td>\n",
              "      <td>Warehousing</td>\n",
              "      <td>REDWOOD MOVING STORAGE</td>\n",
              "      <td>5.0</td>\n",
              "    </tr>\n",
              "  </tbody>\n",
              "</table>\n",
              "<p>39233 rows × 4 columns</p>\n",
              "</div>\n",
              "      <button class=\"colab-df-convert\" onclick=\"convertToInteractive('df-1d2b235f-edea-4886-9569-a4a727c3e122')\"\n",
              "              title=\"Convert this dataframe to an interactive table.\"\n",
              "              style=\"display:none;\">\n",
              "        \n",
              "  <svg xmlns=\"http://www.w3.org/2000/svg\" height=\"24px\"viewBox=\"0 0 24 24\"\n",
              "       width=\"24px\">\n",
              "    <path d=\"M0 0h24v24H0V0z\" fill=\"none\"/>\n",
              "    <path d=\"M18.56 5.44l.94 2.06.94-2.06 2.06-.94-2.06-.94-.94-2.06-.94 2.06-2.06.94zm-11 1L8.5 8.5l.94-2.06 2.06-.94-2.06-.94L8.5 2.5l-.94 2.06-2.06.94zm10 10l.94 2.06.94-2.06 2.06-.94-2.06-.94-.94-2.06-.94 2.06-2.06.94z\"/><path d=\"M17.41 7.96l-1.37-1.37c-.4-.4-.92-.59-1.43-.59-.52 0-1.04.2-1.43.59L10.3 9.45l-7.72 7.72c-.78.78-.78 2.05 0 2.83L4 21.41c.39.39.9.59 1.41.59.51 0 1.02-.2 1.41-.59l7.78-7.78 2.81-2.81c.8-.78.8-2.07 0-2.86zM5.41 20L4 18.59l7.72-7.72 1.47 1.35L5.41 20z\"/>\n",
              "  </svg>\n",
              "      </button>\n",
              "      \n",
              "  <style>\n",
              "    .colab-df-container {\n",
              "      display:flex;\n",
              "      flex-wrap:wrap;\n",
              "      gap: 12px;\n",
              "    }\n",
              "\n",
              "    .colab-df-convert {\n",
              "      background-color: #E8F0FE;\n",
              "      border: none;\n",
              "      border-radius: 50%;\n",
              "      cursor: pointer;\n",
              "      display: none;\n",
              "      fill: #1967D2;\n",
              "      height: 32px;\n",
              "      padding: 0 0 0 0;\n",
              "      width: 32px;\n",
              "    }\n",
              "\n",
              "    .colab-df-convert:hover {\n",
              "      background-color: #E2EBFA;\n",
              "      box-shadow: 0px 1px 2px rgba(60, 64, 67, 0.3), 0px 1px 3px 1px rgba(60, 64, 67, 0.15);\n",
              "      fill: #174EA6;\n",
              "    }\n",
              "\n",
              "    [theme=dark] .colab-df-convert {\n",
              "      background-color: #3B4455;\n",
              "      fill: #D2E3FC;\n",
              "    }\n",
              "\n",
              "    [theme=dark] .colab-df-convert:hover {\n",
              "      background-color: #434B5C;\n",
              "      box-shadow: 0px 1px 3px 1px rgba(0, 0, 0, 0.15);\n",
              "      filter: drop-shadow(0px 1px 2px rgba(0, 0, 0, 0.3));\n",
              "      fill: #FFFFFF;\n",
              "    }\n",
              "  </style>\n",
              "\n",
              "      <script>\n",
              "        const buttonEl =\n",
              "          document.querySelector('#df-1d2b235f-edea-4886-9569-a4a727c3e122 button.colab-df-convert');\n",
              "        buttonEl.style.display =\n",
              "          google.colab.kernel.accessAllowed ? 'block' : 'none';\n",
              "\n",
              "        async function convertToInteractive(key) {\n",
              "          const element = document.querySelector('#df-1d2b235f-edea-4886-9569-a4a727c3e122');\n",
              "          const dataTable =\n",
              "            await google.colab.kernel.invokeFunction('convertToInteractive',\n",
              "                                                     [key], {});\n",
              "          if (!dataTable) return;\n",
              "\n",
              "          const docLinkHtml = 'Like what you see? Visit the ' +\n",
              "            '<a target=\"_blank\" href=https://colab.research.google.com/notebooks/data_table.ipynb>data table notebook</a>'\n",
              "            + ' to learn more about interactive tables.';\n",
              "          element.innerHTML = '';\n",
              "          dataTable['output_type'] = 'display_data';\n",
              "          await google.colab.output.renderOutput(dataTable, element);\n",
              "          const docLink = document.createElement('div');\n",
              "          docLink.innerHTML = docLinkHtml;\n",
              "          element.appendChild(docLink);\n",
              "        }\n",
              "      </script>\n",
              "    </div>\n",
              "  </div>\n",
              "  "
            ]
          },
          "metadata": {},
          "execution_count": 7
        }
      ]
    },
    {
      "cell_type": "code",
      "source": [
        "df=Transaction_count"
      ],
      "metadata": {
        "id": "Y9x0MHoVulZj"
      },
      "execution_count": 8,
      "outputs": []
    },
    {
      "cell_type": "code",
      "source": [
        "from sklearn.preprocessing import LabelEncoder\n",
        "lb = LabelEncoder()\n",
        "encoder_client = LabelEncoder()\n",
        "encoder_supplier = LabelEncoder()\n",
        "df['CLIENT_ID'] = encoder_client.fit_transform(df['CLIENT_ID'])\n",
        "df['label_SUPPLIER_NORMALIZED_NAME'] = encoder_supplier.fit_transform(df['SUPPLIER_NORMALIZED_NAME'])\n",
        "print(df.head())"
      ],
      "metadata": {
        "colab": {
          "base_uri": "https://localhost:8080/"
        },
        "id": "Vo-u3f_vuN23",
        "outputId": "86181db4-7f3d-413c-a8c9-eccc464f3572"
      },
      "execution_count": 9,
      "outputs": [
        {
          "output_type": "stream",
          "name": "stdout",
          "text": [
            "   CLIENT_ID                      IBM_COMMODITY  \\\n",
            "0          0  Advertising & Creative Agency Fee   \n",
            "1          0  Advertising & Creative Agency Fee   \n",
            "2          0  Advertising & Creative Agency Fee   \n",
            "3          0  Advertising & Creative Agency Fee   \n",
            "4          0  Advertising & Creative Agency Fee   \n",
            "\n",
            "        SUPPLIER_NORMALIZED_NAME  rating  total_transactions  new_rating  \\\n",
            "0                  ABIGGERCIRCLE   1.000                   3         5.0   \n",
            "1              ADVERTISING HOUSE   0.200                   5         1.0   \n",
            "2     AFP ADVANCED FOOD PRODUCTS   1.000                   1         5.0   \n",
            "3  AFRICA DDB BRASIL PUBLICIDADE   0.375                   8         2.0   \n",
            "4                         AMAZON   1.000                   2         5.0   \n",
            "\n",
            "   label_SUPPLIER_NORMALIZED_NAME  \n",
            "0                             217  \n",
            "1                             521  \n",
            "2                             562  \n",
            "3                             566  \n",
            "4                            1102  \n"
          ]
        }
      ]
    },
    {
      "cell_type": "code",
      "source": [
        "df.head()"
      ],
      "metadata": {
        "colab": {
          "base_uri": "https://localhost:8080/",
          "height": 206
        },
        "id": "5IaVRpUXNdQS",
        "outputId": "6ba72cce-93d7-4078-b611-3b3876c4e156"
      },
      "execution_count": 27,
      "outputs": [
        {
          "output_type": "execute_result",
          "data": {
            "text/plain": [
              "   CLIENT_ID                      IBM_COMMODITY  \\\n",
              "0          0  Advertising & Creative Agency Fee   \n",
              "1          0  Advertising & Creative Agency Fee   \n",
              "2          0  Advertising & Creative Agency Fee   \n",
              "3          0  Advertising & Creative Agency Fee   \n",
              "4          0  Advertising & Creative Agency Fee   \n",
              "\n",
              "        SUPPLIER_NORMALIZED_NAME  rating  total_transactions  new_rating  \\\n",
              "0                  ABIGGERCIRCLE   1.000                   3         5.0   \n",
              "1              ADVERTISING HOUSE   0.200                   5         1.0   \n",
              "2     AFP ADVANCED FOOD PRODUCTS   1.000                   1         5.0   \n",
              "3  AFRICA DDB BRASIL PUBLICIDADE   0.375                   8         2.0   \n",
              "4                         AMAZON   1.000                   2         5.0   \n",
              "\n",
              "   label_SUPPLIER_NORMALIZED_NAME  \n",
              "0                             217  \n",
              "1                             521  \n",
              "2                             562  \n",
              "3                             566  \n",
              "4                            1102  "
            ],
            "text/html": [
              "\n",
              "  <div id=\"df-b1d4f3d8-bd33-4ff0-a7e3-3bcf7a089c50\">\n",
              "    <div class=\"colab-df-container\">\n",
              "      <div>\n",
              "<style scoped>\n",
              "    .dataframe tbody tr th:only-of-type {\n",
              "        vertical-align: middle;\n",
              "    }\n",
              "\n",
              "    .dataframe tbody tr th {\n",
              "        vertical-align: top;\n",
              "    }\n",
              "\n",
              "    .dataframe thead th {\n",
              "        text-align: right;\n",
              "    }\n",
              "</style>\n",
              "<table border=\"1\" class=\"dataframe\">\n",
              "  <thead>\n",
              "    <tr style=\"text-align: right;\">\n",
              "      <th></th>\n",
              "      <th>CLIENT_ID</th>\n",
              "      <th>IBM_COMMODITY</th>\n",
              "      <th>SUPPLIER_NORMALIZED_NAME</th>\n",
              "      <th>rating</th>\n",
              "      <th>total_transactions</th>\n",
              "      <th>new_rating</th>\n",
              "      <th>label_SUPPLIER_NORMALIZED_NAME</th>\n",
              "    </tr>\n",
              "  </thead>\n",
              "  <tbody>\n",
              "    <tr>\n",
              "      <th>0</th>\n",
              "      <td>0</td>\n",
              "      <td>Advertising &amp; Creative Agency Fee</td>\n",
              "      <td>ABIGGERCIRCLE</td>\n",
              "      <td>1.000</td>\n",
              "      <td>3</td>\n",
              "      <td>5.0</td>\n",
              "      <td>217</td>\n",
              "    </tr>\n",
              "    <tr>\n",
              "      <th>1</th>\n",
              "      <td>0</td>\n",
              "      <td>Advertising &amp; Creative Agency Fee</td>\n",
              "      <td>ADVERTISING HOUSE</td>\n",
              "      <td>0.200</td>\n",
              "      <td>5</td>\n",
              "      <td>1.0</td>\n",
              "      <td>521</td>\n",
              "    </tr>\n",
              "    <tr>\n",
              "      <th>2</th>\n",
              "      <td>0</td>\n",
              "      <td>Advertising &amp; Creative Agency Fee</td>\n",
              "      <td>AFP ADVANCED FOOD PRODUCTS</td>\n",
              "      <td>1.000</td>\n",
              "      <td>1</td>\n",
              "      <td>5.0</td>\n",
              "      <td>562</td>\n",
              "    </tr>\n",
              "    <tr>\n",
              "      <th>3</th>\n",
              "      <td>0</td>\n",
              "      <td>Advertising &amp; Creative Agency Fee</td>\n",
              "      <td>AFRICA DDB BRASIL PUBLICIDADE</td>\n",
              "      <td>0.375</td>\n",
              "      <td>8</td>\n",
              "      <td>2.0</td>\n",
              "      <td>566</td>\n",
              "    </tr>\n",
              "    <tr>\n",
              "      <th>4</th>\n",
              "      <td>0</td>\n",
              "      <td>Advertising &amp; Creative Agency Fee</td>\n",
              "      <td>AMAZON</td>\n",
              "      <td>1.000</td>\n",
              "      <td>2</td>\n",
              "      <td>5.0</td>\n",
              "      <td>1102</td>\n",
              "    </tr>\n",
              "  </tbody>\n",
              "</table>\n",
              "</div>\n",
              "      <button class=\"colab-df-convert\" onclick=\"convertToInteractive('df-b1d4f3d8-bd33-4ff0-a7e3-3bcf7a089c50')\"\n",
              "              title=\"Convert this dataframe to an interactive table.\"\n",
              "              style=\"display:none;\">\n",
              "        \n",
              "  <svg xmlns=\"http://www.w3.org/2000/svg\" height=\"24px\"viewBox=\"0 0 24 24\"\n",
              "       width=\"24px\">\n",
              "    <path d=\"M0 0h24v24H0V0z\" fill=\"none\"/>\n",
              "    <path d=\"M18.56 5.44l.94 2.06.94-2.06 2.06-.94-2.06-.94-.94-2.06-.94 2.06-2.06.94zm-11 1L8.5 8.5l.94-2.06 2.06-.94-2.06-.94L8.5 2.5l-.94 2.06-2.06.94zm10 10l.94 2.06.94-2.06 2.06-.94-2.06-.94-.94-2.06-.94 2.06-2.06.94z\"/><path d=\"M17.41 7.96l-1.37-1.37c-.4-.4-.92-.59-1.43-.59-.52 0-1.04.2-1.43.59L10.3 9.45l-7.72 7.72c-.78.78-.78 2.05 0 2.83L4 21.41c.39.39.9.59 1.41.59.51 0 1.02-.2 1.41-.59l7.78-7.78 2.81-2.81c.8-.78.8-2.07 0-2.86zM5.41 20L4 18.59l7.72-7.72 1.47 1.35L5.41 20z\"/>\n",
              "  </svg>\n",
              "      </button>\n",
              "      \n",
              "  <style>\n",
              "    .colab-df-container {\n",
              "      display:flex;\n",
              "      flex-wrap:wrap;\n",
              "      gap: 12px;\n",
              "    }\n",
              "\n",
              "    .colab-df-convert {\n",
              "      background-color: #E8F0FE;\n",
              "      border: none;\n",
              "      border-radius: 50%;\n",
              "      cursor: pointer;\n",
              "      display: none;\n",
              "      fill: #1967D2;\n",
              "      height: 32px;\n",
              "      padding: 0 0 0 0;\n",
              "      width: 32px;\n",
              "    }\n",
              "\n",
              "    .colab-df-convert:hover {\n",
              "      background-color: #E2EBFA;\n",
              "      box-shadow: 0px 1px 2px rgba(60, 64, 67, 0.3), 0px 1px 3px 1px rgba(60, 64, 67, 0.15);\n",
              "      fill: #174EA6;\n",
              "    }\n",
              "\n",
              "    [theme=dark] .colab-df-convert {\n",
              "      background-color: #3B4455;\n",
              "      fill: #D2E3FC;\n",
              "    }\n",
              "\n",
              "    [theme=dark] .colab-df-convert:hover {\n",
              "      background-color: #434B5C;\n",
              "      box-shadow: 0px 1px 3px 1px rgba(0, 0, 0, 0.15);\n",
              "      filter: drop-shadow(0px 1px 2px rgba(0, 0, 0, 0.3));\n",
              "      fill: #FFFFFF;\n",
              "    }\n",
              "  </style>\n",
              "\n",
              "      <script>\n",
              "        const buttonEl =\n",
              "          document.querySelector('#df-b1d4f3d8-bd33-4ff0-a7e3-3bcf7a089c50 button.colab-df-convert');\n",
              "        buttonEl.style.display =\n",
              "          google.colab.kernel.accessAllowed ? 'block' : 'none';\n",
              "\n",
              "        async function convertToInteractive(key) {\n",
              "          const element = document.querySelector('#df-b1d4f3d8-bd33-4ff0-a7e3-3bcf7a089c50');\n",
              "          const dataTable =\n",
              "            await google.colab.kernel.invokeFunction('convertToInteractive',\n",
              "                                                     [key], {});\n",
              "          if (!dataTable) return;\n",
              "\n",
              "          const docLinkHtml = 'Like what you see? Visit the ' +\n",
              "            '<a target=\"_blank\" href=https://colab.research.google.com/notebooks/data_table.ipynb>data table notebook</a>'\n",
              "            + ' to learn more about interactive tables.';\n",
              "          element.innerHTML = '';\n",
              "          dataTable['output_type'] = 'display_data';\n",
              "          await google.colab.output.renderOutput(dataTable, element);\n",
              "          const docLink = document.createElement('div');\n",
              "          docLink.innerHTML = docLinkHtml;\n",
              "          element.appendChild(docLink);\n",
              "        }\n",
              "      </script>\n",
              "    </div>\n",
              "  </div>\n",
              "  "
            ]
          },
          "metadata": {},
          "execution_count": 27
        }
      ]
    },
    {
      "cell_type": "code",
      "source": [
        "df.to_csv('Processed_recom.csv', index=False)"
      ],
      "metadata": {
        "id": "vrevsp8DpCS_"
      },
      "execution_count": 12,
      "outputs": []
    },
    {
      "cell_type": "code",
      "source": [
        "#Transform the dataframe to Surprise environment\n",
        "reader = Reader(line_format='user item rating', sep=',', rating_scale=(1, 5))\n",
        "data = Dataset.load_from_df(df[[\"CLIENT_ID\", \"label_SUPPLIER_NORMALIZED_NAME\", \"new_rating\"]], reader)"
      ],
      "metadata": {
        "id": "1DyTS6kMsJwg"
      },
      "execution_count": 10,
      "outputs": []
    },
    {
      "cell_type": "code",
      "source": [
        "trainset, testset= train_test_split(data, test_size = 0.25, random_state = 0)"
      ],
      "metadata": {
        "id": "z0aKZl2BtNlJ"
      },
      "execution_count": 11,
      "outputs": []
    },
    {
      "cell_type": "code",
      "source": [
        "trainset.rating_scale"
      ],
      "metadata": {
        "colab": {
          "base_uri": "https://localhost:8080/"
        },
        "id": "7Rdc1Y_2vM_U",
        "outputId": "1eb678db-c286-4d88-ed3d-3a35d92632e5"
      },
      "execution_count": 15,
      "outputs": [
        {
          "output_type": "execute_result",
          "data": {
            "text/plain": [
              "(1, 5)"
            ]
          },
          "metadata": {},
          "execution_count": 15
        }
      ]
    },
    {
      "cell_type": "code",
      "source": [
        "#supplier namw\n",
        "trainset.n_items"
      ],
      "metadata": {
        "colab": {
          "base_uri": "https://localhost:8080/"
        },
        "id": "GHWnTewLvOhI",
        "outputId": "f1ea30e0-8841-4716-89b2-174a5b48fd03"
      },
      "execution_count": 16,
      "outputs": [
        {
          "output_type": "execute_result",
          "data": {
            "text/plain": [
              "20330"
            ]
          },
          "metadata": {},
          "execution_count": 16
        }
      ]
    },
    {
      "cell_type": "code",
      "source": [
        "#client\n",
        "trainset.n_users"
      ],
      "metadata": {
        "colab": {
          "base_uri": "https://localhost:8080/"
        },
        "id": "RkrJhFbmvQQj",
        "outputId": "258397d2-b6ce-4007-fb7a-185d55301de1"
      },
      "execution_count": 17,
      "outputs": [
        {
          "output_type": "execute_result",
          "data": {
            "text/plain": [
              "4"
            ]
          },
          "metadata": {},
          "execution_count": 17
        }
      ]
    },
    {
      "cell_type": "code",
      "source": [
        "trainset.n_ratings"
      ],
      "metadata": {
        "colab": {
          "base_uri": "https://localhost:8080/"
        },
        "id": "aF9quxYUvS3M",
        "outputId": "527c30f4-1b0a-4fa3-cf74-2ea2eccfe344"
      },
      "execution_count": 18,
      "outputs": [
        {
          "output_type": "execute_result",
          "data": {
            "text/plain": [
              "29424"
            ]
          },
          "metadata": {},
          "execution_count": 18
        }
      ]
    },
    {
      "cell_type": "code",
      "source": [
        "trainset.global_mean"
      ],
      "metadata": {
        "colab": {
          "base_uri": "https://localhost:8080/"
        },
        "id": "MZIQQ3yMvaI3",
        "outputId": "af2882e2-b3af-480e-b451-566274cab6b5"
      },
      "execution_count": 19,
      "outputs": [
        {
          "output_type": "execute_result",
          "data": {
            "text/plain": [
              "3.2557436106579662"
            ]
          },
          "metadata": {},
          "execution_count": 19
        }
      ]
    },
    {
      "cell_type": "code",
      "source": [
        "from surprise import KNNBasic\n",
        "sim_options = {\"name\": \"MSD\", \"user_based\": False, \"shrinkage\": 100}  # no shrinkage\n",
        "algo = KNNBasic(sim_options=sim_options)\n",
        "algo.fit(trainset)"
      ],
      "metadata": {
        "id": "w1W2tIrP2Gdc",
        "colab": {
          "base_uri": "https://localhost:8080/"
        },
        "outputId": "89ef0765-63b2-433c-f86f-eb631eb1404e"
      },
      "execution_count": 12,
      "outputs": [
        {
          "output_type": "stream",
          "name": "stdout",
          "text": [
            "Computing the msd similarity matrix...\n",
            "Done computing similarity matrix.\n"
          ]
        },
        {
          "output_type": "execute_result",
          "data": {
            "text/plain": [
              "<surprise.prediction_algorithms.knns.KNNBasic at 0x7f45b82cfbe0>"
            ]
          },
          "metadata": {},
          "execution_count": 12
        }
      ]
    },
    {
      "cell_type": "code",
      "source": [
        "predictions = algo.test(testset)\n",
        "RMSE = accuracy.rmse(predictions)"
      ],
      "metadata": {
        "id": "T_4LjTpv4Ymt",
        "colab": {
          "base_uri": "https://localhost:8080/"
        },
        "outputId": "5fa5b846-d211-4489-985f-f904a265165d"
      },
      "execution_count": 13,
      "outputs": [
        {
          "output_type": "stream",
          "name": "stdout",
          "text": [
            "RMSE: 1.7723\n"
          ]
        }
      ]
    },
    {
      "cell_type": "code",
      "source": [
        "#from surprise import KNNBaseline\n",
        "#sim_options = {\"name\": \"pearson_baseline\", \"user_based\": True, \"shrinkage\": 100}  # no shrinkage\n",
        "#algo1 = KNNBaseline(sim_options=sim_options)\n",
        "#algo1.fit(trainset)"
      ],
      "metadata": {
        "id": "ZyOhU_RqBQwt"
      },
      "execution_count": 22,
      "outputs": []
    },
    {
      "cell_type": "code",
      "source": [
        "#predictions = algo1.test(testset)\n",
        "#RMSE = accuracy.rmse(predictions)"
      ],
      "metadata": {
        "id": "dKQE9VI5BYaJ"
      },
      "execution_count": 23,
      "outputs": []
    },
    {
      "cell_type": "code",
      "source": [
        "#Top 10 suppliers for client 4 for example\n",
        "#CLIENT_ID = 3\n",
        "#items = algo.get_neighbors(CLIENT_ID, k=10)\n",
        "#print(items)"
      ],
      "metadata": {
        "colab": {
          "base_uri": "https://localhost:8080/"
        },
        "id": "h7XVRkaWBIwg",
        "outputId": "1bd0fd7d-a2d8-47b3-d5ec-c47998d6d32e"
      },
      "execution_count": 24,
      "outputs": [
        {
          "output_type": "stream",
          "name": "stdout",
          "text": [
            "[16, 18, 54, 57, 62, 75, 96, 98, 100, 104]\n"
          ]
        }
      ]
    },
    {
      "cell_type": "code",
      "source": [
        "CLIENT_ID = [0,1,2,3]\n",
        "for i in CLIENT_ID:\n",
        "  items = algo.get_neighbors(i, k=10)\n",
        "  print(\"client\", i, \":\", items)"
      ],
      "metadata": {
        "colab": {
          "base_uri": "https://localhost:8080/"
        },
        "id": "VCOGqt95VYL6",
        "outputId": "500f13f1-d67d-46b5-9ddf-28e8b86b1026"
      },
      "execution_count": 33,
      "outputs": [
        {
          "output_type": "stream",
          "name": "stdout",
          "text": [
            "client 0 : [66, 101, 151, 164, 174, 222, 231, 235, 240, 245]\n",
            "client 1 : [4, 9, 13, 17, 19, 20, 25, 28, 34, 37]\n",
            "client 2 : [112, 146, 273, 286, 297, 306, 361, 425, 483, 490]\n",
            "client 3 : [16, 18, 54, 57, 62, 75, 96, 98, 100, 104]\n"
          ]
        }
      ]
    },
    {
      "cell_type": "code",
      "source": [
        "#for recom in items:\n",
        "#supplier = df.loc[df['label_SUPPLIER_NORMALIZED_NAME'] == recom, 'SUPPLIER_NORMALIZED_NAME'].iloc[0]\n",
        "#print(f\"Supplier: {supplier}\")"
      ],
      "metadata": {
        "colab": {
          "base_uri": "https://localhost:8080/"
        },
        "id": "LDZWVruiOJJT",
        "outputId": "34a588f1-8c9f-43fe-b992-45733337d6e3"
      },
      "execution_count": 31,
      "outputs": [
        {
          "output_type": "stream",
          "name": "stdout",
          "text": [
            "Supplier: 1RA\n",
            "Supplier: 1ST CALL PLUMBING\n",
            "Supplier: 3M\n",
            "Supplier: 3PL\n",
            "Supplier: 4 LEVEL LOGISTICS\n",
            "Supplier: 4SIDE SOLUTIONS\n",
            "Supplier: 84.51 LLC\n",
            "Supplier: 99JOBS DESENVOLVIMENTO HUMANO\n",
            "Supplier: A AHMEDALLY AND\n",
            "Supplier: A AND B ENGINEERING SERVICES\n"
          ]
        }
      ]
    },
    {
      "cell_type": "code",
      "source": [
        "CLIENT_ID = [0,1,2,3]\n",
        "for i in CLIENT_ID:\n",
        "  items = algo.get_neighbors(i, k=10)\n",
        "  for item in items:\n",
        "    supplier = df.loc[df['label_SUPPLIER_NORMALIZED_NAME'] == item, 'SUPPLIER_NORMALIZED_NAME'].iloc[0]\n",
        "    print(\"Client\", i, f\"Supplier: {supplier}\")\n",
        "    "
      ],
      "metadata": {
        "colab": {
          "base_uri": "https://localhost:8080/"
        },
        "id": "mOwlOdZYDFBd",
        "outputId": "293b66bc-179c-41c7-d81f-8f43fbc5f94a"
      },
      "execution_count": 21,
      "outputs": [
        {
          "output_type": "stream",
          "name": "stdout",
          "text": [
            "Client 0 Supplier: 42ND STREET FILMS\n",
            "Client 0 Supplier: A AMERICAN CONTAINER\n",
            "Client 0 Supplier: AA ELECTRIC\n",
            "Client 0 Supplier: AARHUS TECH\n",
            "Client 0 Supplier: AB MAURI FLEISCHMANNS\n",
            "Client 0 Supplier: ABIONOVA HYGIENE SERVICE\n",
            "Client 0 Supplier: ABMS\n",
            "Client 0 Supplier: ABRASICORP EQUIPMENT\n",
            "Client 0 Supplier: ABSA GROUP\n",
            "Client 0 Supplier: ABSORB SOFTWARE\n",
            "Client 1 Supplier: 1000THINGS\n",
            "Client 1 Supplier: 120 80\n",
            "Client 1 Supplier: 1ACT AMERICAN TELECOM\n",
            "Client 1 Supplier: 1S RARUS ITS\n",
            "Client 1 Supplier: 2 FOR IT\n",
            "Client 1 Supplier: 2 SN MENN\n",
            "Client 1 Supplier: 24 7 COMMUNICATION SP ZOO\n",
            "Client 1 Supplier: 24X7 TRANSLINES\n",
            "Client 1 Supplier: 2B SNC DI BIONDA MARIA LUISA EC\n",
            "Client 1 Supplier: 2MPACT\n",
            "Client 2 Supplier: A AND S ENGINEERING SOLUTIONS LT\n",
            "Client 2 Supplier: A2A ENERGIA\n",
            "Client 2 Supplier: ACCESSABLE\n",
            "Client 2 Supplier: ACE CANCELAS SIGLO XXI\n",
            "Client 2 Supplier: ACHIEVE LEARNING NZ\n",
            "Client 2 Supplier: ACMS\n",
            "Client 2 Supplier: ACTIVV\n",
            "Client 2 Supplier: ADEPTUM\n",
            "Client 2 Supplier: ADVANCE IMPEX\n",
            "Client 2 Supplier: ADVANCED ENERGY MANAGEMENT\n",
            "Client 3 Supplier: 1RA\n",
            "Client 3 Supplier: 1ST CALL PLUMBING\n",
            "Client 3 Supplier: 3M\n",
            "Client 3 Supplier: 3PL\n",
            "Client 3 Supplier: 4 LEVEL LOGISTICS\n",
            "Client 3 Supplier: 4SIDE SOLUTIONS\n",
            "Client 3 Supplier: 84.51 LLC\n",
            "Client 3 Supplier: 99JOBS DESENVOLVIMENTO HUMANO\n",
            "Client 3 Supplier: A AHMEDALLY AND\n",
            "Client 3 Supplier: A AND B ENGINEERING SERVICES\n"
          ]
        }
      ]
    }
  ]
}